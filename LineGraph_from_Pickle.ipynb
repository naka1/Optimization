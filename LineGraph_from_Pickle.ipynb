{
 "cells": [
  {
   "cell_type": "markdown",
   "metadata": {},
   "source": [
    "# Pickleデータ\n",
    "\n",
    "* 計算データとヒストリーデータをバイナリー（Pickle）で保存した。\n",
    "* Pickle化されたデータはpd.read_pickleでアクセスできる。 "
   ]
  },
  {
   "cell_type": "code",
   "execution_count": null,
   "metadata": {},
   "outputs": [],
   "source": [
    "import numpy as np\n",
    "import pandas as pd\n",
    "import plotly.graph_objects as go"
   ]
  },
  {
   "cell_type": "code",
   "execution_count": null,
   "metadata": {
    "scrolled": true
   },
   "outputs": [],
   "source": [
    "hist = pd.read_pickle(\"OPT_CMG_JNOC\\output\\Pickle\\hist\")"
   ]
  },
  {
   "cell_type": "code",
   "execution_count": null,
   "metadata": {},
   "outputs": [],
   "source": [
    "eval0 = pd.read_pickle(\"OPT_CMG_JNOC\\output\\Pickle\\eval_0\")"
   ]
  },
  {
   "cell_type": "code",
   "execution_count": null,
   "metadata": {},
   "outputs": [],
   "source": [
    "hist.head()"
   ]
  },
  {
   "cell_type": "code",
   "execution_count": null,
   "metadata": {},
   "outputs": [],
   "source": [
    "eval0.head()"
   ]
  },
  {
   "cell_type": "code",
   "execution_count": null,
   "metadata": {},
   "outputs": [],
   "source": [
    "for i in hist.columns:\n",
    "    print(i)"
   ]
  },
  {
   "cell_type": "code",
   "execution_count": null,
   "metadata": {},
   "outputs": [],
   "source": [
    "print(eval0.columns[24])"
   ]
  },
  {
   "cell_type": "code",
   "execution_count": null,
   "metadata": {},
   "outputs": [],
   "source": [
    "colnum = 24\n",
    "\n",
    "fig = go.Figure()\n",
    "\n",
    "t_h = hist[hist.columns[1]]\n",
    "y_h = hist[hist.columns[colnum]]\n",
    "fig.add_trace(go.Scatter(x=t_h, y=y_h, mode='markers', name='hist'))\n",
    "    \n",
    "for i in range(10):\n",
    "    df_ = pd.read_pickle(\"OPT_CMG_JNOC\\output\\Pickle\\eval_\" + str(i))\n",
    "    col_t = df_.columns[1]\n",
    "    col_y = df_.columns[colnum]\n",
    "    t = df_[col_t]\n",
    "    y = df_[col_y]\n",
    "    fig.add_trace(go.Scatter(x=t, y=y, mode='lines', name=\"eval_\"+str(i)))\n",
    "    \n",
    "fig.show()    "
   ]
  }
 ],
 "metadata": {
  "kernelspec": {
   "display_name": "Python 3",
   "language": "python",
   "name": "python3"
  },
  "language_info": {
   "codemirror_mode": {
    "name": "ipython",
    "version": 3
   },
   "file_extension": ".py",
   "mimetype": "text/x-python",
   "name": "python",
   "nbconvert_exporter": "python",
   "pygments_lexer": "ipython3",
   "version": "3.6.5"
  }
 },
 "nbformat": 4,
 "nbformat_minor": 2
}
